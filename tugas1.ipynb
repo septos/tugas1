#import dan check versi tf
import tensorflow as tf
from tensorflow.keras.optimizers import RMSprop
from tensorflow.keras.preprocessing.image import ImageDataGenerator
print(tf.__version__)
import sklearn
from sklearn.model_selection import train_test_split
from sklearn import datasets
import zipfile
import os 
 
#download data 
!wget --no-check-certificate \
https://dicodingacademy.blob.core.windows.net/picodiploma/ml_pemula_academy/rockpaperscissors.zip \
-O /tmp/rockpaperscissors.zip

import zipfile
import os
local_zip = '/tmp/rockpaperscissors.zip'
zip_ref = zipfile.ZipFile(local_zip, 'r')
zip_ref.extractall('/tmp')
zip_ref.close()

os.listdir ('/tmp/rockpaperscissors')

#base_dir = '/tmp/rockpaperscissors/rps-cv-images'
#train_dir = os.path.join(base_dir, 'train')
#validation_dir = os.path.join(base_dir, 'val')
#os.listdir('/tmp/rockpaperscissors/rps-cv-images')

import split_folders
base_dir = '/tmp/rockpaperscissors/rps-cv-images'
split_folders.ratio('/tmp/rockpaperscissors/rps-cv-images', output="/tmp/rockpaperscissors/data", seed=1337, ratio=(.6, .4))
#HasilSplitData = '/tmp/rockpaperscissors/data'
rock_dir = os.path.join(base_dir, 'rock')
paper_dir = os.path.join(base_dir, 'paper')
scissors_dir = os.path.join(base_dir, 'scissors')

train_rock_dir, validation_rock_dir = train_test_split(os.listdir (rock_dir))
train_paper_dir, validation_paper_dir = train_test_split(os.listdir (paper_dir))
train_scissors_dir, validation_scissors_dir = train_test_split(os.listdir (scissors_dir))

#validation_rock_dir = os.path.join(HasilSplitData, 'rock')
#validation_paper_dir = os.path.join(HasilSplitData, 'paper')
#validation_scissor_dir = os.path.join(HasilSplitData, 'scissors')


datamodel = ImageDataGenerator(
                        rescale=1./255,
                        rotation_range=20,
                        horizontal_flip=True,
                        shear_range = 0.2,
                        fill_mode = 'wrap')

train_generator = datamodel.flow_from_directory(
        base_dir,  
        target_size=(200, 200),
        batch_size=4,
        class_mode='categorical'
        )

validation_generator = datamodel.flow_from_directory(
        base_dir,
        target_size=(200, 200),
        batch_size=4,
        class_mode='categorical'
        )
